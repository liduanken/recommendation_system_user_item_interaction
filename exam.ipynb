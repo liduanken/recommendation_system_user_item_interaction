{
 "cells": [
  {
   "cell_type": "markdown",
   "metadata": {},
   "source": [
    "## question4\n",
    "### answer:\n",
    "One potential improvement is to implement a hybrid recommendation model that combines collaborative filtering with content-based techniques. With access to item features and an open-source LLM, we can generate dense semantic embeddings from item metadata—like descriptions, categories, and tags. These embeddings can be integrated with historical user-item interactions to boost recommendation relevance, particularly in cold-start scenarios or for items with limited interaction history. This approach helps improve overall personalization while leveraging the new infrastructure and tools now available."
   ]
  },
  {
   "cell_type": "code",
   "execution_count": 6,
   "metadata": {},
   "outputs": [],
   "source": [
    "import pandas as pd\n",
    "import os\n",
    "from cf import ItemBasedCF\n",
    "from mf import MFRecommender"
   ]
  },
  {
   "cell_type": "code",
   "execution_count": 7,
   "metadata": {},
   "outputs": [],
   "source": [
    "def load_data(data_path='ml-latest-small'):\n",
    "    \"\"\"\n",
    "    Load MovieLens dataset\n",
    "    \n",
    "    Parameters:\n",
    "        data_path: Dataset path\n",
    "        \n",
    "    Returns:\n",
    "        ratings_df: Rating data\n",
    "        movies_df: Movie data\n",
    "    \"\"\"\n",
    "    ratings_file = os.path.join(data_path, 'ratings.csv')\n",
    "    movies_file = os.path.join(data_path, 'movies.csv')\n",
    "    \n",
    "    ratings_df = pd.read_csv(ratings_file)\n",
    "    movies_df = pd.read_csv(movies_file)\n",
    "    \n",
    "    return ratings_df, movies_df"
   ]
  },
  {
   "cell_type": "code",
   "execution_count": 8,
   "metadata": {},
   "outputs": [],
   "source": [
    "def item_based_cf_results(ratings_df):\n",
    "    \"\"\"\n",
    "    Run item-based collaborative filtering model and get results\n",
    "    \n",
    "    Parameters:\n",
    "        ratings_df: Rating data\n",
    "    \"\"\"\n",
    "    print(\"Training item-based collaborative filtering model...\")\n",
    "    cf_model = ItemBasedCF()\n",
    "    cf_model.fit(ratings_df)\n",
    "    \n",
    "    # Find the 10 most similar movies for the given movie IDs\n",
    "    target_movies = [260, 1407, 4993]\n",
    "    \n",
    "    print(\"\\nItem-based collaborative filtering model results:\")\n",
    "    for movie_id in target_movies:\n",
    "        similar_movies = cf_model.get_similar_movies(movie_id, top_n=10)\n",
    "        print(f\"10 most similar movies to movie {movie_id}: {similar_movies}\")\n",
    "    \n",
    "    return cf_model"
   ]
  },
  {
   "cell_type": "code",
   "execution_count": 9,
   "metadata": {},
   "outputs": [],
   "source": [
    "def matrix_factorization_results(ratings_df):\n",
    "    \"\"\"\n",
    "    Run matrix factorization model and get results\n",
    "    \n",
    "    Parameters:\n",
    "        ratings_df: Rating data\n",
    "    \"\"\"\n",
    "    print(\"\\nTraining matrix factorization model...\")\n",
    "    mf_model = MFRecommender(n_factors=20, n_epochs=5)  # Reduce training epochs to speed up demonstration\n",
    "    mf_model.fit(ratings_df)\n",
    "    \n",
    "    # Recommend top 10 movies for given users\n",
    "    target_users = [1, 2, 3]\n",
    "    \n",
    "    print(\"\\nMatrix factorization model results:\")\n",
    "    for user_id in target_users:\n",
    "        recommended_movies = mf_model.recommend_for_user(user_id, top_n=10)\n",
    "        print(f\"10 movies recommended for user {user_id}: {recommended_movies}\")\n",
    "    \n",
    "    return mf_model\n"
   ]
  },
  {
   "cell_type": "code",
   "execution_count": 10,
   "metadata": {},
   "outputs": [
    {
     "name": "stdout",
     "output_type": "stream",
     "text": [
      "Loaded 100836 rating records and 9742 movies\n",
      "Training item-based collaborative filtering model...\n",
      "\n",
      "Item-based collaborative filtering model results:\n",
      "10 most similar movies to movie 260: [1196, 1210, 1198, 2571, 1291, 1270, 2628, 1240, 858, 2028]\n",
      "10 most similar movies to movie 1407: [1717, 2710, 1387, 1573, 2115, 3499, 1517, 2502, 1994, 1393]\n",
      "10 most similar movies to movie 4993: [7153, 5952, 6539, 2571, 4306, 2959, 4226, 5349, 3578, 33794]\n",
      "\n",
      "Training matrix factorization model...\n",
      "Epoch 1/5, Loss: 0.9811\n",
      "Epoch 2/5, Loss: 0.9481\n",
      "Epoch 3/5, Loss: 0.9315\n",
      "Epoch 4/5, Loss: 0.9267\n",
      "Epoch 5/5, Loss: 0.9265\n",
      "\n",
      "Matrix factorization model results:\n",
      "10 movies recommended for user 1: [np.int64(6818), np.int64(53), np.int64(26810), np.int64(6835), np.int64(5746), np.int64(93022), np.int64(40491), np.int64(136503), np.int64(136834), np.int64(6442)]\n",
      "10 movies recommended for user 2: [np.int64(6818), np.int64(93008), np.int64(142444), np.int64(53), np.int64(107771), np.int64(118894), np.int64(6835), np.int64(100556), np.int64(136503), np.int64(95843)]\n",
      "10 movies recommended for user 3: [np.int64(6818), np.int64(53), np.int64(26810), np.int64(93022), np.int64(6835), np.int64(40491), np.int64(5746), np.int64(6402), np.int64(136834), np.int64(73822)]\n",
      "\n",
      "Task completed!\n"
     ]
    }
   ],
   "source": [
    "# Load data\n",
    "ratings_df, movies_df = load_data()\n",
    "print(f\"Loaded {len(ratings_df)} rating records and {len(movies_df)} movies\")\n",
    "    \n",
    "# Run item-based collaborative filtering model\n",
    "cf_model = item_based_cf_results(ratings_df)\n",
    "    \n",
    "# Run matrix factorization model\n",
    "mf_model = matrix_factorization_results(ratings_df)\n",
    "    \n",
    "print(\"\\nTask completed!\")"
   ]
  }
 ],
 "metadata": {
  "kernelspec": {
   "display_name": "base",
   "language": "python",
   "name": "python3"
  },
  "language_info": {
   "codemirror_mode": {
    "name": "ipython",
    "version": 3
   },
   "file_extension": ".py",
   "mimetype": "text/x-python",
   "name": "python",
   "nbconvert_exporter": "python",
   "pygments_lexer": "ipython3",
   "version": "3.9.20"
  }
 },
 "nbformat": 4,
 "nbformat_minor": 2
}
